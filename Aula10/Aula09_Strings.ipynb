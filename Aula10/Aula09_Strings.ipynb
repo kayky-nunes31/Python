{
  "nbformat": 4,
  "nbformat_minor": 0,
  "metadata": {
    "anaconda-cloud": {},
    "kernelspec": {
      "display_name": "Python 3",
      "language": "python",
      "name": "python3"
    },
    "language_info": {
      "codemirror_mode": {
        "name": "ipython",
        "version": 3
      },
      "file_extension": ".py",
      "mimetype": "text/x-python",
      "name": "python",
      "nbconvert_exporter": "python",
      "pygments_lexer": "ipython3",
      "version": "3.8.5"
    },
    "colab": {
      "name": "Aula09_Strings.ipynb",
      "provenance": [],
      "collapsed_sections": [],
      "toc_visible": true
    }
  },
  "cells": [
    {
      "cell_type": "markdown",
      "metadata": {
        "id": "wYGh8jNwBkC5"
      },
      "source": [
        "# <font size='14'>Programação de Computadores</font>\n",
        "\n",
        "<h1> Aula 09: Processamento de textos: Strings</h1>\n",
        "\n",
        "> Pressione as teclas <b>SHIFT</b> e <b>ENTER</b> para executar o código em uma célula ou pressione o botão Play"
      ]
    },
    {
      "cell_type": "markdown",
      "metadata": {
        "id": "I-RZbiKtwULm"
      },
      "source": [
        "# Exemplos"
      ]
    },
    {
      "cell_type": "markdown",
      "source": [
        "## Imprimindo o caractere na posição 1 da String"
      ],
      "metadata": {
        "id": "_zlrEoLeb-xY"
      }
    },
    {
      "cell_type": "code",
      "metadata": {
        "id": "q5ZYZycLBkDH",
        "colab": {
          "base_uri": "https://localhost:8080/",
          "height": 35
        },
        "outputId": "3059565a-53ec-4ad0-cd53-e8abf5f7d0f2"
      },
      "source": [
        "fruta = 'banana'\n",
        "letra = fruta[1]\n",
        "letra"
      ],
      "execution_count": 2,
      "outputs": [
        {
          "output_type": "execute_result",
          "data": {
            "text/plain": [
              "'a'"
            ],
            "application/vnd.google.colaboratory.intrinsic+json": {
              "type": "string"
            }
          },
          "metadata": {},
          "execution_count": 2
        }
      ]
    },
    {
      "cell_type": "markdown",
      "source": [
        "## Função len() \n",
        "Retorna a quantidade de caracteres da String."
      ],
      "metadata": {
        "id": "Felz3e7UcDtK"
      }
    },
    {
      "cell_type": "code",
      "metadata": {
        "id": "pytrAJgL9DHo"
      },
      "source": [
        "fruta = 'banana'\n",
        "len(fruta)"
      ],
      "execution_count": null,
      "outputs": []
    },
    {
      "cell_type": "markdown",
      "source": [
        "## Laço de repetição for\n",
        "Strings podem ser processadas como listas utilizando-se o laço de repetição for"
      ],
      "metadata": {
        "id": "s2EGVUrscYej"
      }
    },
    {
      "cell_type": "code",
      "source": [
        "string = input('Digite um texto')\n",
        "inversa = ''\n",
        "for x in string:\n",
        "  inversa = x + inversa\n",
        "print(inversa)"
      ],
      "metadata": {
        "id": "lHJR5U4mcfyn"
      },
      "execution_count": null,
      "outputs": []
    },
    {
      "cell_type": "markdown",
      "source": [
        "## Concatenção:\n",
        "Consiste em juntar duas ou mais Strings em uma nova String"
      ],
      "metadata": {
        "id": "sfDq1SNZcQGI"
      }
    },
    {
      "cell_type": "code",
      "metadata": {
        "id": "6zm-blFVD1CC"
      },
      "source": [
        "s = \"ABC\"\n",
        "print(s + \"D\" + \"E\" + \"F\")"
      ],
      "execution_count": null,
      "outputs": []
    },
    {
      "cell_type": "code",
      "metadata": {
        "id": "OiBmXetnLiON"
      },
      "source": [
        "a = '3'\n",
        "b = '4'\n",
        "print(a+b)\n",
        "print(int(a)+int(b))"
      ],
      "execution_count": null,
      "outputs": []
    },
    {
      "cell_type": "markdown",
      "source": [
        "## Composição:\n",
        "Utilizada em mensagens exibidas na tela e consiste em utilizar Strings com modelos para inserir outras Strings"
      ],
      "metadata": {
        "id": "BF8EacTrdHiQ"
      }
    },
    {
      "cell_type": "code",
      "metadata": {
        "id": "KqFxPtalEDqY"
      },
      "source": [
        "x = 18\n",
        "print(\"João tem\", x,\"anos de idade.\")"
      ],
      "execution_count": null,
      "outputs": []
    },
    {
      "cell_type": "code",
      "metadata": {
        "id": "Ojwmh2kgETcX"
      },
      "source": [
        "x = 18\n",
        "print(\"João tem %d anos de idade.\" %x)"
      ],
      "execution_count": null,
      "outputs": []
    },
    {
      "cell_type": "code",
      "metadata": {
        "id": "jAY5INu9Elbl"
      },
      "source": [
        "idade = 18\n",
        "print(\"[%03d]\" %idade)"
      ],
      "execution_count": null,
      "outputs": []
    },
    {
      "cell_type": "code",
      "metadata": {
        "id": "EoVo-ECiFIWk"
      },
      "source": [
        "a = 18\n",
        "print(\"%f\" %a)"
      ],
      "execution_count": null,
      "outputs": []
    },
    {
      "cell_type": "code",
      "metadata": {
        "id": "bpV889VAFw-x"
      },
      "source": [
        "a = 18\n",
        "print(\"%.2f\" %a)"
      ],
      "execution_count": null,
      "outputs": []
    },
    {
      "cell_type": "code",
      "metadata": {
        "id": "0AnTAcXN56QV"
      },
      "source": [
        "nome = 'Marco'\n",
        "idade = 18\n",
        "print(f'Meu nome é {nome} e tenho {idade:03d} anos de idade')"
      ],
      "execution_count": null,
      "outputs": []
    },
    {
      "cell_type": "code",
      "metadata": {
        "id": "7q54t5PM6D_n"
      },
      "source": [
        "nome = 'Murilo'\n",
        "idade = 23\n",
        "print('Meu nome é {} e tenho {} anos de idade'.format(nome,idade))"
      ],
      "execution_count": null,
      "outputs": []
    },
    {
      "cell_type": "code",
      "metadata": {
        "id": "HL-bY96X6R3s"
      },
      "source": [
        "num = int(input('Digite um número: '))\n",
        "raiz = num**0.5\n",
        "print(f'A raiz quadrada de {raiz:.2f}')"
      ],
      "execution_count": null,
      "outputs": []
    },
    {
      "cell_type": "markdown",
      "source": [
        "## Fatiamento:\n",
        "Técnica utilizada para obter somente uma parte da String, ou seja, uma fatia"
      ],
      "metadata": {
        "id": "xoUszlhkdZFV"
      }
    },
    {
      "cell_type": "code",
      "metadata": {
        "id": "-hv3OnpgF0Cj"
      },
      "source": [
        "fruit = \"banana\"\n",
        "print(fruit[0:2])"
      ],
      "execution_count": null,
      "outputs": []
    },
    {
      "cell_type": "code",
      "metadata": {
        "id": "12i4Y5uCGaNV"
      },
      "source": [
        "fruit = \"banana\"\n",
        "print(fruit[:3])"
      ],
      "execution_count": null,
      "outputs": []
    },
    {
      "cell_type": "code",
      "metadata": {
        "id": "Vo2vmVsmHMvY"
      },
      "source": [
        "fruit = \"banana\"\n",
        "print(fruit[3:])"
      ],
      "execution_count": null,
      "outputs": []
    },
    {
      "cell_type": "code",
      "metadata": {
        "id": "g2-Dg3adHRoW"
      },
      "source": [
        "a = \"ABCDEFGHI\"\n",
        "print(a[0:-4])"
      ],
      "execution_count": null,
      "outputs": []
    },
    {
      "cell_type": "markdown",
      "source": [
        "## Strings são imutáveis"
      ],
      "metadata": {
        "id": "rmtHoYWJdmhW"
      }
    },
    {
      "cell_type": "code",
      "metadata": {
        "id": "zsXEJFZEHscO"
      },
      "source": [
        "saudacao = \"Olá mundo\"\n",
        "saudacao[0] = \"J\""
      ],
      "execution_count": null,
      "outputs": []
    },
    {
      "cell_type": "markdown",
      "source": [
        "## Método strip()\n",
        "Retorna uma String sem os espaços em branco e mudanças de linhas no início e final de uma String"
      ],
      "metadata": {
        "id": "VCkcD-mudpI3"
      }
    },
    {
      "cell_type": "code",
      "metadata": {
        "id": "gE8OSTDzH_7D"
      },
      "source": [
        "b = \"\\n Fizeram a atividade?\"\n",
        "b.strip()"
      ],
      "execution_count": null,
      "outputs": []
    },
    {
      "cell_type": "markdown",
      "source": [
        "## Operador in\n",
        "Verifica se uma substring é parte de uma outra String"
      ],
      "metadata": {
        "id": "hruA_Pfid3su"
      }
    },
    {
      "cell_type": "code",
      "metadata": {
        "id": "Blh8LqS5IS_o"
      },
      "source": [
        "a = \"Fizeram a atividade?\"\n",
        "\"atividade\" in a"
      ],
      "execution_count": null,
      "outputs": []
    },
    {
      "cell_type": "code",
      "metadata": {
        "id": "Rpz8HlWVISwn"
      },
      "source": [
        "a = \"Fizeram a atividade?\"\n",
        "\"abril\" in a"
      ],
      "execution_count": null,
      "outputs": []
    },
    {
      "cell_type": "markdown",
      "source": [
        "## Método find()\n",
        "Retorna onde a substring começa na String"
      ],
      "metadata": {
        "id": "vG0jFyEed_tp"
      }
    },
    {
      "cell_type": "code",
      "metadata": {
        "id": "wTn9vtZ4IuK4"
      },
      "source": [
        "a = \"Fizeram a atividade?\"\n",
        "a.find(\"atividade\")"
      ],
      "execution_count": null,
      "outputs": []
    },
    {
      "cell_type": "code",
      "metadata": {
        "id": "BULDhy0RIt_O"
      },
      "source": [
        "a = \"Fizeram a atividade?\"\n",
        "a.find(\"abril\")"
      ],
      "execution_count": null,
      "outputs": []
    },
    {
      "cell_type": "markdown",
      "source": [
        "## Método replace()\n",
        "Troca todas as ocorrências de uma substring por outra em uma String"
      ],
      "metadata": {
        "id": "knIEQad6eGmr"
      }
    },
    {
      "cell_type": "code",
      "metadata": {
        "id": "sqwsw5FqJH9f"
      },
      "source": [
        "a = \"Fizeram a atividade?\"\n",
        "a.replace(\"atividade\", \"\")\n",
        "a"
      ],
      "execution_count": null,
      "outputs": []
    },
    {
      "cell_type": "markdown",
      "source": [
        "## Método upper()\n",
        "Converte todos os caracteres para caixa alta"
      ],
      "metadata": {
        "id": "1gBAxsXbeMNu"
      }
    },
    {
      "cell_type": "code",
      "metadata": {
        "id": "K2rOSIw7J6-b"
      },
      "source": [
        "a = \"Atividade\"\n",
        "a1 = a.upper()\n",
        "print(a1)"
      ],
      "execution_count": null,
      "outputs": []
    },
    {
      "cell_type": "markdown",
      "source": [
        "## Método lower()\n",
        "Converte todos os caracteres para caixa baixa"
      ],
      "metadata": {
        "id": "VDcF-tcZeTy8"
      }
    },
    {
      "cell_type": "code",
      "metadata": {
        "id": "p0K30QMRKQBn"
      },
      "source": [
        "a = \"Atividade\"\n",
        "a2 = a.lower()\n",
        "print(a2)"
      ],
      "execution_count": null,
      "outputs": []
    },
    {
      "cell_type": "markdown",
      "source": [
        "## Método split(sep)\n",
        "Separa uma String usando um separador (sep)."
      ],
      "metadata": {
        "id": "C9w4TxGPeZsk"
      }
    },
    {
      "cell_type": "code",
      "metadata": {
        "id": "lsNhz3_DKVTF"
      },
      "source": [
        "num = \"1; 2 ; 3\"\n",
        "num.split(\";\")"
      ],
      "execution_count": null,
      "outputs": []
    },
    {
      "cell_type": "code",
      "metadata": {
        "id": "GXNdbGjHKpmC"
      },
      "source": [
        "a = \"Fizeram a atividade?\"\n",
        "a.split()"
      ],
      "execution_count": null,
      "outputs": []
    },
    {
      "cell_type": "markdown",
      "source": [
        "## Método count(e)\n",
        "Retorna quantas vezes o elemento (e) aparece na String"
      ],
      "metadata": {
        "id": "_mlrRZToekWl"
      }
    },
    {
      "cell_type": "code",
      "metadata": {
        "id": "ecioYqXNR-jt"
      },
      "source": [
        "frase = \"Macaco come banana\"\n",
        "frase.count(\"a\")"
      ],
      "execution_count": null,
      "outputs": []
    }
  ]
}